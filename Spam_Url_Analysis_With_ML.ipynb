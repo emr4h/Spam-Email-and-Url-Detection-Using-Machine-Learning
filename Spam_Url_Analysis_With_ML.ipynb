{
 "cells": [
  {
   "cell_type": "markdown",
   "id": "1236b337",
   "metadata": {},
   "source": [
    "# Spam Url Analysis With Machine Learning"
   ]
  },
  {
   "cell_type": "code",
   "execution_count": 1,
   "id": "e6442584",
   "metadata": {},
   "outputs": [],
   "source": [
    "import numpy as np\n",
    "import pandas as pd\n",
    "from sklearn.model_selection import train_test_split\n",
    "from sklearn.feature_extraction.text import CountVectorizer\n",
    "from sklearn import tree\n",
    "from sklearn.svm import LinearSVC\n",
    "from sklearn.linear_model import SGDClassifier\n",
    "from sklearn.naive_bayes import MultinomialNB\n",
    "from sklearn.metrics import f1_score"
   ]
  },
  {
   "cell_type": "code",
   "execution_count": 2,
   "id": "2da2f26a",
   "metadata": {},
   "outputs": [],
   "source": [
    "url = pd.read_csv('../Spam-Email-and-Url-Detection-Using-Machine-Learning/data-set/url_spam_classification.csv') # data set read"
   ]
  },
  {
   "cell_type": "code",
   "execution_count": 3,
   "id": "474af51e",
   "metadata": {},
   "outputs": [
    {
     "data": {
      "text/html": [
       "<div>\n",
       "<style scoped>\n",
       "    .dataframe tbody tr th:only-of-type {\n",
       "        vertical-align: middle;\n",
       "    }\n",
       "\n",
       "    .dataframe tbody tr th {\n",
       "        vertical-align: top;\n",
       "    }\n",
       "\n",
       "    .dataframe thead th {\n",
       "        text-align: right;\n",
       "    }\n",
       "</style>\n",
       "<table border=\"1\" class=\"dataframe\">\n",
       "  <thead>\n",
       "    <tr style=\"text-align: right;\">\n",
       "      <th></th>\n",
       "      <th>url</th>\n",
       "      <th>is_spam</th>\n",
       "    </tr>\n",
       "  </thead>\n",
       "  <tbody>\n",
       "    <tr>\n",
       "      <th>0</th>\n",
       "      <td>https://briefingday.us8.list-manage.com/unsubs...</td>\n",
       "      <td>True</td>\n",
       "    </tr>\n",
       "    <tr>\n",
       "      <th>1</th>\n",
       "      <td>https://www.hvper.com/</td>\n",
       "      <td>True</td>\n",
       "    </tr>\n",
       "    <tr>\n",
       "      <th>2</th>\n",
       "      <td>https://briefingday.com/m/v4n3i4f3</td>\n",
       "      <td>True</td>\n",
       "    </tr>\n",
       "    <tr>\n",
       "      <th>3</th>\n",
       "      <td>https://briefingday.com/n/20200618/m#commentform</td>\n",
       "      <td>False</td>\n",
       "    </tr>\n",
       "    <tr>\n",
       "      <th>4</th>\n",
       "      <td>https://briefingday.com/fan</td>\n",
       "      <td>True</td>\n",
       "    </tr>\n",
       "    <tr>\n",
       "      <th>...</th>\n",
       "      <td>...</td>\n",
       "      <td>...</td>\n",
       "    </tr>\n",
       "    <tr>\n",
       "      <th>148298</th>\n",
       "      <td>https://cdn.substack.com/image/fetch/f_auto,q_...</td>\n",
       "      <td>True</td>\n",
       "    </tr>\n",
       "    <tr>\n",
       "      <th>148299</th>\n",
       "      <td>https://numlock.substack.com/subscribe</td>\n",
       "      <td>True</td>\n",
       "    </tr>\n",
       "    <tr>\n",
       "      <th>148300</th>\n",
       "      <td>https://docs.google.com/forms/d/e/1FAIpQLSfDLO...</td>\n",
       "      <td>True</td>\n",
       "    </tr>\n",
       "    <tr>\n",
       "      <th>148301</th>\n",
       "      <td>https://bookclub.substack.com/</td>\n",
       "      <td>True</td>\n",
       "    </tr>\n",
       "    <tr>\n",
       "      <th>148302</th>\n",
       "      <td>https://awards.substack.com/</td>\n",
       "      <td>True</td>\n",
       "    </tr>\n",
       "  </tbody>\n",
       "</table>\n",
       "<p>148303 rows × 2 columns</p>\n",
       "</div>"
      ],
      "text/plain": [
       "                                                      url  is_spam\n",
       "0       https://briefingday.us8.list-manage.com/unsubs...     True\n",
       "1                                  https://www.hvper.com/     True\n",
       "2                      https://briefingday.com/m/v4n3i4f3     True\n",
       "3        https://briefingday.com/n/20200618/m#commentform    False\n",
       "4                             https://briefingday.com/fan     True\n",
       "...                                                   ...      ...\n",
       "148298  https://cdn.substack.com/image/fetch/f_auto,q_...     True\n",
       "148299             https://numlock.substack.com/subscribe     True\n",
       "148300  https://docs.google.com/forms/d/e/1FAIpQLSfDLO...     True\n",
       "148301                     https://bookclub.substack.com/     True\n",
       "148302                       https://awards.substack.com/     True\n",
       "\n",
       "[148303 rows x 2 columns]"
      ]
     },
     "execution_count": 3,
     "metadata": {},
     "output_type": "execute_result"
    }
   ],
   "source": [
    "url"
   ]
  },
  {
   "cell_type": "code",
   "execution_count": 4,
   "id": "36e8a5e8",
   "metadata": {},
   "outputs": [
    {
     "data": {
      "text/plain": [
       "(148303, 2)"
      ]
     },
     "execution_count": 4,
     "metadata": {},
     "output_type": "execute_result"
    }
   ],
   "source": [
    "url.shape"
   ]
  },
  {
   "cell_type": "code",
   "execution_count": 5,
   "id": "af37a83b",
   "metadata": {},
   "outputs": [
    {
     "data": {
      "text/html": [
       "<div>\n",
       "<style scoped>\n",
       "    .dataframe tbody tr th:only-of-type {\n",
       "        vertical-align: middle;\n",
       "    }\n",
       "\n",
       "    .dataframe tbody tr th {\n",
       "        vertical-align: top;\n",
       "    }\n",
       "\n",
       "    .dataframe thead th {\n",
       "        text-align: right;\n",
       "    }\n",
       "</style>\n",
       "<table border=\"1\" class=\"dataframe\">\n",
       "  <thead>\n",
       "    <tr style=\"text-align: right;\">\n",
       "      <th></th>\n",
       "      <th>url</th>\n",
       "      <th>is_spam</th>\n",
       "    </tr>\n",
       "  </thead>\n",
       "  <tbody>\n",
       "    <tr>\n",
       "      <th>count</th>\n",
       "      <td>148303</td>\n",
       "      <td>148303</td>\n",
       "    </tr>\n",
       "    <tr>\n",
       "      <th>unique</th>\n",
       "      <td>87581</td>\n",
       "      <td>2</td>\n",
       "    </tr>\n",
       "    <tr>\n",
       "      <th>top</th>\n",
       "      <td>https://www.bloomberg.com/tosv2.html</td>\n",
       "      <td>False</td>\n",
       "    </tr>\n",
       "    <tr>\n",
       "      <th>freq</th>\n",
       "      <td>1086</td>\n",
       "      <td>101021</td>\n",
       "    </tr>\n",
       "  </tbody>\n",
       "</table>\n",
       "</div>"
      ],
      "text/plain": [
       "                                         url is_spam\n",
       "count                                 148303  148303\n",
       "unique                                 87581       2\n",
       "top     https://www.bloomberg.com/tosv2.html   False\n",
       "freq                                    1086  101021"
      ]
     },
     "execution_count": 5,
     "metadata": {},
     "output_type": "execute_result"
    }
   ],
   "source": [
    "url.describe()"
   ]
  },
  {
   "cell_type": "code",
   "execution_count": 6,
   "id": "05e2dde2",
   "metadata": {},
   "outputs": [
    {
     "data": {
      "text/plain": [
       "is_spam\n",
       "False    101021\n",
       "True      47282\n",
       "dtype: int64"
      ]
     },
     "execution_count": 6,
     "metadata": {},
     "output_type": "execute_result"
    }
   ],
   "source": [
    "url.groupby(url['is_spam']).size()"
   ]
  },
  {
   "cell_type": "markdown",
   "id": "86b9bdbe",
   "metadata": {},
   "source": [
    "We have a total of 148.303 data. There are 101.021 safe and 47.282 spam."
   ]
  },
  {
   "cell_type": "code",
   "execution_count": 7,
   "id": "323a9d81",
   "metadata": {},
   "outputs": [],
   "source": [
    "url['is_spam'] = url.is_spam.apply(str) # Convert boolean column to string column"
   ]
  },
  {
   "cell_type": "code",
   "execution_count": 8,
   "id": "c39ff65b",
   "metadata": {},
   "outputs": [],
   "source": [
    "url['is_spam'] = url['is_spam'].apply(lambda x : 1 if x == \"True\" in x else 0)"
   ]
  },
  {
   "cell_type": "code",
   "execution_count": 9,
   "id": "12a4320f",
   "metadata": {},
   "outputs": [
    {
     "data": {
      "text/html": [
       "<div>\n",
       "<style scoped>\n",
       "    .dataframe tbody tr th:only-of-type {\n",
       "        vertical-align: middle;\n",
       "    }\n",
       "\n",
       "    .dataframe tbody tr th {\n",
       "        vertical-align: top;\n",
       "    }\n",
       "\n",
       "    .dataframe thead th {\n",
       "        text-align: right;\n",
       "    }\n",
       "</style>\n",
       "<table border=\"1\" class=\"dataframe\">\n",
       "  <thead>\n",
       "    <tr style=\"text-align: right;\">\n",
       "      <th></th>\n",
       "      <th>url</th>\n",
       "      <th>is_spam</th>\n",
       "    </tr>\n",
       "  </thead>\n",
       "  <tbody>\n",
       "    <tr>\n",
       "      <th>0</th>\n",
       "      <td>https://briefingday.us8.list-manage.com/unsubs...</td>\n",
       "      <td>1</td>\n",
       "    </tr>\n",
       "    <tr>\n",
       "      <th>1</th>\n",
       "      <td>https://www.hvper.com/</td>\n",
       "      <td>1</td>\n",
       "    </tr>\n",
       "    <tr>\n",
       "      <th>2</th>\n",
       "      <td>https://briefingday.com/m/v4n3i4f3</td>\n",
       "      <td>1</td>\n",
       "    </tr>\n",
       "    <tr>\n",
       "      <th>3</th>\n",
       "      <td>https://briefingday.com/n/20200618/m#commentform</td>\n",
       "      <td>0</td>\n",
       "    </tr>\n",
       "    <tr>\n",
       "      <th>4</th>\n",
       "      <td>https://briefingday.com/fan</td>\n",
       "      <td>1</td>\n",
       "    </tr>\n",
       "    <tr>\n",
       "      <th>...</th>\n",
       "      <td>...</td>\n",
       "      <td>...</td>\n",
       "    </tr>\n",
       "    <tr>\n",
       "      <th>148298</th>\n",
       "      <td>https://cdn.substack.com/image/fetch/f_auto,q_...</td>\n",
       "      <td>1</td>\n",
       "    </tr>\n",
       "    <tr>\n",
       "      <th>148299</th>\n",
       "      <td>https://numlock.substack.com/subscribe</td>\n",
       "      <td>1</td>\n",
       "    </tr>\n",
       "    <tr>\n",
       "      <th>148300</th>\n",
       "      <td>https://docs.google.com/forms/d/e/1FAIpQLSfDLO...</td>\n",
       "      <td>1</td>\n",
       "    </tr>\n",
       "    <tr>\n",
       "      <th>148301</th>\n",
       "      <td>https://bookclub.substack.com/</td>\n",
       "      <td>1</td>\n",
       "    </tr>\n",
       "    <tr>\n",
       "      <th>148302</th>\n",
       "      <td>https://awards.substack.com/</td>\n",
       "      <td>1</td>\n",
       "    </tr>\n",
       "  </tbody>\n",
       "</table>\n",
       "<p>148303 rows × 2 columns</p>\n",
       "</div>"
      ],
      "text/plain": [
       "                                                      url  is_spam\n",
       "0       https://briefingday.us8.list-manage.com/unsubs...        1\n",
       "1                                  https://www.hvper.com/        1\n",
       "2                      https://briefingday.com/m/v4n3i4f3        1\n",
       "3        https://briefingday.com/n/20200618/m#commentform        0\n",
       "4                             https://briefingday.com/fan        1\n",
       "...                                                   ...      ...\n",
       "148298  https://cdn.substack.com/image/fetch/f_auto,q_...        1\n",
       "148299             https://numlock.substack.com/subscribe        1\n",
       "148300  https://docs.google.com/forms/d/e/1FAIpQLSfDLO...        1\n",
       "148301                     https://bookclub.substack.com/        1\n",
       "148302                       https://awards.substack.com/        1\n",
       "\n",
       "[148303 rows x 2 columns]"
      ]
     },
     "execution_count": 9,
     "metadata": {},
     "output_type": "execute_result"
    }
   ],
   "source": [
    "url"
   ]
  },
  {
   "cell_type": "code",
   "execution_count": 10,
   "id": "fce25255",
   "metadata": {},
   "outputs": [],
   "source": [
    "urls = url.iloc[:,0]"
   ]
  },
  {
   "cell_type": "code",
   "execution_count": 11,
   "id": "b7b798cc",
   "metadata": {},
   "outputs": [
    {
     "data": {
      "text/plain": [
       "0    https://briefingday.us8.list-manage.com/unsubs...\n",
       "1                               https://www.hvper.com/\n",
       "2                   https://briefingday.com/m/v4n3i4f3\n",
       "3     https://briefingday.com/n/20200618/m#commentform\n",
       "4                          https://briefingday.com/fan\n",
       "Name: url, dtype: object"
      ]
     },
     "execution_count": 11,
     "metadata": {},
     "output_type": "execute_result"
    }
   ],
   "source": [
    "urls.head()"
   ]
  },
  {
   "cell_type": "code",
   "execution_count": 12,
   "id": "2e18281c",
   "metadata": {},
   "outputs": [],
   "source": [
    "ifSpam = url.iloc[:,1]"
   ]
  },
  {
   "cell_type": "code",
   "execution_count": 13,
   "id": "45f7f040",
   "metadata": {},
   "outputs": [
    {
     "data": {
      "text/plain": [
       "0    1\n",
       "1    1\n",
       "2    1\n",
       "3    0\n",
       "4    1\n",
       "Name: is_spam, dtype: int64"
      ]
     },
     "execution_count": 13,
     "metadata": {},
     "output_type": "execute_result"
    }
   ],
   "source": [
    "ifSpam.head()"
   ]
  },
  {
   "cell_type": "markdown",
   "id": "0aa0e5b3",
   "metadata": {},
   "source": [
    "With CountVectorizer, text is analyzed and word counts are made and these are converted into vectors."
   ]
  },
  {
   "cell_type": "markdown",
   "id": "e1f803bb",
   "metadata": {},
   "source": [
    "In this analysis, we will use CountVectorizer, but first, since the url structure is not like normal text, we will convert the urls into a format that CountVectorizer can process with a method called tokenizer."
   ]
  },
  {
   "cell_type": "markdown",
   "id": "f088989a",
   "metadata": {},
   "source": [
    "### Tokenizer"
   ]
  },
  {
   "cell_type": "code",
   "execution_count": 14,
   "id": "2fa09e39",
   "metadata": {},
   "outputs": [],
   "source": [
    "def extractUrl(data):\n",
    "    url = str(data)\n",
    "    extractSlash = url.split('/')\n",
    "    result = []\n",
    "    \n",
    "    for i in extractSlash:\n",
    "        extractDash = str(i).split('-')\n",
    "        dotExtract = []\n",
    "        \n",
    "        for j in range(0,len(extractDash)):\n",
    "            extractDot = str(extractDash[j]).split('.')\n",
    "            dotExtract += extractDot\n",
    "            \n",
    "        result += extractDash + dotExtract\n",
    "    result = list(set(result))\n",
    "\n",
    "    return result\n"
   ]
  },
  {
   "cell_type": "markdown",
   "id": "fe12326c",
   "metadata": {},
   "source": [
    "We have created the function that will perform the Tokenizer, the work of this function is as in the example below:"
   ]
  },
  {
   "cell_type": "code",
   "execution_count": 15,
   "id": "76099c05",
   "metadata": {},
   "outputs": [
    {
     "name": "stdout",
     "output_type": "stream",
     "text": [
      "['', 'net', 'emrahyldrm', 'http:', 'www.emrahyldrm', 'www', '1234.net', '1234']\n"
     ]
    }
   ],
   "source": [
    "example = \"http://www.emrahyldrm-1234.net\"\n",
    "a = extractUrl(example)\n",
    "print(a)"
   ]
  },
  {
   "cell_type": "markdown",
   "id": "084b5f84",
   "metadata": {},
   "source": [
    "We will use 75% of our dataset for training and 25% for testing : "
   ]
  },
  {
   "cell_type": "code",
   "execution_count": 16,
   "id": "95db0aa8",
   "metadata": {},
   "outputs": [],
   "source": [
    "urls_train, urls_test, ifSpam_train, ifSpam_test = train_test_split(urls, ifSpam, test_size=0.25)"
   ]
  },
  {
   "cell_type": "code",
   "execution_count": 17,
   "id": "5d1ed4ca",
   "metadata": {},
   "outputs": [],
   "source": [
    "cv = CountVectorizer(tokenizer=extractUrl) # We defined the tokenizer in CountVectorizer"
   ]
  },
  {
   "cell_type": "code",
   "execution_count": 18,
   "id": "454d0766",
   "metadata": {},
   "outputs": [],
   "source": [
    "features = cv.fit_transform(urls_train)"
   ]
  },
  {
   "cell_type": "code",
   "execution_count": 19,
   "id": "8da2831a",
   "metadata": {},
   "outputs": [],
   "source": [
    "features_test = cv.transform(urls_test)"
   ]
  },
  {
   "cell_type": "markdown",
   "id": "affe795d",
   "metadata": {},
   "source": [
    "# Learning and Predicts "
   ]
  },
  {
   "cell_type": "code",
   "execution_count": 20,
   "id": "4709dd1f",
   "metadata": {},
   "outputs": [],
   "source": [
    "dtModel = tree.DecisionTreeClassifier() "
   ]
  },
  {
   "cell_type": "code",
   "execution_count": 21,
   "id": "86452ad7",
   "metadata": {},
   "outputs": [
    {
     "data": {
      "text/plain": [
       "DecisionTreeClassifier()"
      ]
     },
     "execution_count": 21,
     "metadata": {},
     "output_type": "execute_result"
    }
   ],
   "source": [
    "dtModel.fit(features, ifSpam_train)"
   ]
  },
  {
   "cell_type": "code",
   "execution_count": 22,
   "id": "cfc3049e",
   "metadata": {},
   "outputs": [],
   "source": [
    "dtPredict = dtModel.predict(features_test)"
   ]
  },
  {
   "cell_type": "code",
   "execution_count": 23,
   "id": "cb86727d",
   "metadata": {},
   "outputs": [],
   "source": [
    "lsvcModel = LinearSVC()"
   ]
  },
  {
   "cell_type": "code",
   "execution_count": 24,
   "id": "f8324ab4",
   "metadata": {},
   "outputs": [
    {
     "data": {
      "text/plain": [
       "LinearSVC()"
      ]
     },
     "execution_count": 24,
     "metadata": {},
     "output_type": "execute_result"
    }
   ],
   "source": [
    "lsvcModel.fit(features, ifSpam_train)"
   ]
  },
  {
   "cell_type": "code",
   "execution_count": 25,
   "id": "9632b34e",
   "metadata": {},
   "outputs": [],
   "source": [
    "lsvcPredict = lsvcModel.predict(features_test)"
   ]
  },
  {
   "cell_type": "code",
   "execution_count": 26,
   "id": "54f8660c",
   "metadata": {},
   "outputs": [],
   "source": [
    "sgdcModel = SGDClassifier()"
   ]
  },
  {
   "cell_type": "code",
   "execution_count": 27,
   "id": "48933159",
   "metadata": {},
   "outputs": [
    {
     "data": {
      "text/plain": [
       "SGDClassifier()"
      ]
     },
     "execution_count": 27,
     "metadata": {},
     "output_type": "execute_result"
    }
   ],
   "source": [
    "sgdcModel.fit(features, ifSpam_train) "
   ]
  },
  {
   "cell_type": "code",
   "execution_count": 28,
   "id": "2b3d14e1",
   "metadata": {},
   "outputs": [],
   "source": [
    "sgdcPredict = sgdcModel.predict(features_test)"
   ]
  },
  {
   "cell_type": "code",
   "execution_count": 29,
   "id": "47e539bd",
   "metadata": {},
   "outputs": [],
   "source": [
    "nbModel = MultinomialNB()"
   ]
  },
  {
   "cell_type": "code",
   "execution_count": 30,
   "id": "41185b7e",
   "metadata": {},
   "outputs": [
    {
     "data": {
      "text/plain": [
       "MultinomialNB()"
      ]
     },
     "execution_count": 30,
     "metadata": {},
     "output_type": "execute_result"
    }
   ],
   "source": [
    "nbModel.fit(features, ifSpam_train)"
   ]
  },
  {
   "cell_type": "code",
   "execution_count": 31,
   "id": "0328b7cf",
   "metadata": {},
   "outputs": [],
   "source": [
    "nbPredict = nbModel.predict(features_test)"
   ]
  },
  {
   "cell_type": "markdown",
   "id": "e6fb5a3e",
   "metadata": {},
   "source": [
    "# Visualization"
   ]
  },
  {
   "cell_type": "code",
   "execution_count": 32,
   "id": "749f8b92",
   "metadata": {},
   "outputs": [],
   "source": [
    "from sklearn.metrics import plot_confusion_matrix,plot_precision_recall_curve,plot_roc_curve"
   ]
  },
  {
   "cell_type": "code",
   "execution_count": 33,
   "id": "4109a447",
   "metadata": {},
   "outputs": [],
   "source": [
    "def visualization(model):\n",
    "    predict = model.predict(features_test)\n",
    "    plot_confusion_matrix(model,features_test,ifSpam_test)\n",
    "    plot_precision_recall_curve(model,features_test,ifSpam_test)\n",
    "    plot_roc_curve(model,features_test,ifSpam_test)"
   ]
  },
  {
   "cell_type": "markdown",
   "id": "0382e003",
   "metadata": {},
   "source": [
    "# Results"
   ]
  },
  {
   "cell_type": "markdown",
   "id": "17ae4a73",
   "metadata": {},
   "source": [
    "### Decision Tree"
   ]
  },
  {
   "cell_type": "code",
   "execution_count": 34,
   "id": "849936d1",
   "metadata": {},
   "outputs": [
    {
     "name": "stdout",
     "output_type": "stream",
     "text": [
      "Number of mislabeled out of a total of 37076 test entries: 444\n"
     ]
    }
   ],
   "source": [
    "print(\"Number of mislabeled out of a total of %d test entries: %d\" % (urls_test.shape[0], \n",
    "                                                                      (ifSpam_test != dtPredict).sum()))"
   ]
  },
  {
   "cell_type": "code",
   "execution_count": 35,
   "id": "4a846b77",
   "metadata": {},
   "outputs": [],
   "source": [
    "successRate = 100.0 * f1_score(ifSpam_test, dtPredict, average='micro')"
   ]
  },
  {
   "cell_type": "code",
   "execution_count": 36,
   "id": "08703b06",
   "metadata": {},
   "outputs": [
    {
     "name": "stdout",
     "output_type": "stream",
     "text": [
      "The Success Rate was calculated as % : 98.80245981227749 with Decision Tree\n"
     ]
    }
   ],
   "source": [
    "print(\"The Success Rate was calculated as % : \" + str(successRate) + \" with Decision Tree\")"
   ]
  },
  {
   "cell_type": "code",
   "execution_count": 37,
   "id": "7b94a8da",
   "metadata": {
    "scrolled": false
   },
   "outputs": [
    {
     "data": {
      "image/png": "[encoded data removed]",
      "text/plain": [
       "<Figure size 432x288 with 2 Axes>"
      ]
     },
     "metadata": {
      "needs_background": "light"
     },
     "output_type": "display_data"
    },
    {
     "data": {
      "image/png": "[encoded data removed]",
      "text/plain": [
       "<Figure size 432x288 with 1 Axes>"
      ]
     },
     "metadata": {
      "needs_background": "light"
     },
     "output_type": "display_data"
    },
    {
     "data": {
      "image/png": "[encoded data removed]",
      "text/plain": [
       "<Figure size 432x288 with 1 Axes>"
      ]
     },
     "metadata": {
      "needs_background": "light"
     },
     "output_type": "display_data"
    }
   ],
   "source": [
    "visualization(dtModel)"
   ]
  },
  {
   "cell_type": "markdown",
   "id": "f51e816b",
   "metadata": {},
   "source": [
    "### Linear Support Vector"
   ]
  },
  {
   "cell_type": "code",
   "execution_count": 38,
   "id": "1bb06bff",
   "metadata": {},
   "outputs": [
    {
     "name": "stdout",
     "output_type": "stream",
     "text": [
      "Number of mislabeled out of a total of 37076 test entries: 547\n"
     ]
    }
   ],
   "source": [
    "print(\"Number of mislabeled out of a total of %d test entries: %d\" %  (urls_test.shape[0], \n",
    "                                                                       (ifSpam_test != lsvcPredict).sum()))"
   ]
  },
  {
   "cell_type": "code",
   "execution_count": 39,
   "id": "c27185a1",
   "metadata": {},
   "outputs": [],
   "source": [
    "successRate = 100.0 * f1_score(ifSpam_test, lsvcPredict, average='micro')"
   ]
  },
  {
   "cell_type": "code",
   "execution_count": 40,
   "id": "9550e491",
   "metadata": {},
   "outputs": [
    {
     "name": "stdout",
     "output_type": "stream",
     "text": [
      "The Success Rate was calculated as % : 98.52465206602655 with LinearSVC\n"
     ]
    }
   ],
   "source": [
    "print(\"The Success Rate was calculated as % : \" + str(successRate) + \" with LinearSVC\")"
   ]
  },
  {
   "cell_type": "code",
   "execution_count": 41,
   "id": "3a7713ec",
   "metadata": {},
   "outputs": [
    {
     "data": {
      "image/png": "[encoded data removed]",
      "text/plain": [
       "<Figure size 432x288 with 2 Axes>"
      ]
     },
     "metadata": {
      "needs_background": "light"
     },
     "output_type": "display_data"
    },
    {
     "data": {
      "image/png": "[encoded data removed]",
      "text/plain": [
       "<Figure size 432x288 with 1 Axes>"
      ]
     },
     "metadata": {
      "needs_background": "light"
     },
     "output_type": "display_data"
    },
    {
     "data": {
      "image/png": "[encoded data removed]",
      "text/plain": [
       "<Figure size 432x288 with 1 Axes>"
      ]
     },
     "metadata": {
      "needs_background": "light"
     },
     "output_type": "display_data"
    }
   ],
   "source": [
    "visualization(lsvcModel)"
   ]
  },
  {
   "cell_type": "markdown",
   "id": "6bb7d148",
   "metadata": {},
   "source": [
    "### Stochastic Gradient Descent"
   ]
  },
  {
   "cell_type": "code",
   "execution_count": 42,
   "id": "9cd7a13d",
   "metadata": {},
   "outputs": [
    {
     "name": "stdout",
     "output_type": "stream",
     "text": [
      "Number of mislabeled out of a total of 37076 test entries: 1752\n"
     ]
    }
   ],
   "source": [
    "print(\"Number of mislabeled out of a total of %d test entries: %d\" %  (urls_test.shape[0], \n",
    "                                                                       (ifSpam_test != sgdcPredict).sum()))"
   ]
  },
  {
   "cell_type": "code",
   "execution_count": 43,
   "id": "e6805bb0",
   "metadata": {},
   "outputs": [],
   "source": [
    "successRate = 100.0 * f1_score(ifSpam_test, sgdcPredict, average='micro')"
   ]
  },
  {
   "cell_type": "code",
   "execution_count": 44,
   "id": "6545b107",
   "metadata": {},
   "outputs": [
    {
     "name": "stdout",
     "output_type": "stream",
     "text": [
      "The Success Rate was calculated as % : 95.27457115114899 with Stochastic Gradient Descent\n"
     ]
    }
   ],
   "source": [
    "print(\"The Success Rate was calculated as % : \" + str(successRate) + \" with Stochastic Gradient Descent\")"
   ]
  },
  {
   "cell_type": "code",
   "execution_count": 45,
   "id": "df2cda83",
   "metadata": {},
   "outputs": [
    {
     "data": {
      "image/png": "[encoded data removed]",
      "text/plain": [
       "<Figure size 432x288 with 2 Axes>"
      ]
     },
     "metadata": {
      "needs_background": "light"
     },
     "output_type": "display_data"
    },
    {
     "data": {
      "image/png": "[encoded data removed]",
      "text/plain": [
       "<Figure size 432x288 with 1 Axes>"
      ]
     },
     "metadata": {
      "needs_background": "light"
     },
     "output_type": "display_data"
    },
    {
     "data": {
      "image/png": "[encoded data removed]",
      "text/plain": [
       "<Figure size 432x288 with 1 Axes>"
      ]
     },
     "metadata": {
      "needs_background": "light"
     },
     "output_type": "display_data"
    }
   ],
   "source": [
    "visualization(sgdcModel)"
   ]
  },
  {
   "cell_type": "markdown",
   "id": "f5481367",
   "metadata": {},
   "source": [
    "### Multinomial Naive Bayes"
   ]
  },
  {
   "cell_type": "code",
   "execution_count": 46,
   "id": "c464d685",
   "metadata": {},
   "outputs": [
    {
     "name": "stdout",
     "output_type": "stream",
     "text": [
      "Number of mislabeled out of a total of 37076 test entries: 3299\n"
     ]
    }
   ],
   "source": [
    "print(\"Number of mislabeled out of a total of %d test entries: %d\" % (urls_test.shape[0], \n",
    "                                                                      (ifSpam_test != nbPredict).sum()))"
   ]
  },
  {
   "cell_type": "code",
   "execution_count": 47,
   "id": "ddd0971d",
   "metadata": {},
   "outputs": [],
   "source": [
    "successRate = 100.0 * f1_score(ifSpam_test, nbPredict, average='micro')"
   ]
  },
  {
   "cell_type": "code",
   "execution_count": 48,
   "id": "1bc022f6",
   "metadata": {},
   "outputs": [
    {
     "name": "stdout",
     "output_type": "stream",
     "text": [
      "The Success Rate was calculated as % : 91.10206063221491 with Multinomial Naive Bayes\n"
     ]
    }
   ],
   "source": [
    "print(\"The Success Rate was calculated as % : \" + str(successRate) + \" with Multinomial Naive Bayes\")"
   ]
  },
  {
   "cell_type": "code",
   "execution_count": 49,
   "id": "05cd7003",
   "metadata": {},
   "outputs": [
    {
     "data": {
      "image/png": "[encoded data removed]",
      "text/plain": [
       "<Figure size 432x288 with 2 Axes>"
      ]
     },
     "metadata": {
      "needs_background": "light"
     },
     "output_type": "display_data"
    },
    {
     "data": {
      "image/png": "[encoded data removed]",
      "text/plain": [
       "<Figure size 432x288 with 1 Axes>"
      ]
     },
     "metadata": {
      "needs_background": "light"
     },
     "output_type": "display_data"
    },
    {
     "data": {
      "image/png": "[encoded data removed]",
      "text/plain": [
       "<Figure size 432x288 with 1 Axes>"
      ]
     },
     "metadata": {
      "needs_background": "light"
     },
     "output_type": "display_data"
    }
   ],
   "source": [
    "visualization(nbModel)"
   ]
  },
  {
   "cell_type": "code",
   "execution_count": null,
   "id": "f4d8c38c",
   "metadata": {},
   "outputs": [],
   "source": []
  }
 ],
 "metadata": {
  "kernelspec": {
   "display_name": "Python 3 (ipykernel)",
   "language": "python",
   "name": "python3"
  },
  "language_info": {
   "codemirror_mode": {
    "name": "ipython",
    "version": 3
   },
   "file_extension": ".py",
   "mimetype": "text/x-python",
   "name": "python",
   "nbconvert_exporter": "python",
   "pygments_lexer": "ipython3",
   "version": "3.9.10"
  }
 },
 "nbformat": 4,
 "nbformat_minor": 5
}
